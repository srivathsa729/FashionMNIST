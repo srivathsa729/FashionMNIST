{
 "cells": [
  {
   "cell_type": "code",
   "execution_count": 1,
   "metadata": {},
   "outputs": [],
   "source": [
    "%matplotlib inline\n",
    "%config InlineBackend.figure_format = 'retina'\n",
    "\n",
    "import matplotlib.pyplot as plt\n",
    "\n",
    "import torch\n",
    "from torchvision import datasets, transforms\n",
    "import torch.nn as nn\n",
    "import torch.nn.functional as F\n",
    "from torch import optim"
   ]
  },
  {
   "cell_type": "code",
   "execution_count": 2,
   "metadata": {},
   "outputs": [],
   "source": [
    "transform = transforms.Compose([transforms.ToTensor(), transforms.Normalize((0.5,), (0.5,))])"
   ]
  },
  {
   "cell_type": "code",
   "execution_count": 3,
   "metadata": {},
   "outputs": [],
   "source": [
    "trainset = datasets.FashionMNIST(\"D:\\git_projects\\DataSets\", download = False, train = True, transform = transform)\n",
    "trainloader = torch.utils.data.DataLoader(trainset, batch_size = 64, shuffle = True)\n",
    "\n",
    "testset = datasets.FashionMNIST(\"D:\\git_projects\\DataSets\", download = False, train = False, transform = transform)\n",
    "testloader = torch.utils.data.DataLoader(testset, batch_size = 64, shuffle = True)"
   ]
  },
  {
   "cell_type": "code",
   "execution_count": 4,
   "metadata": {},
   "outputs": [],
   "source": [
    "images, labels = next(iter(trainloader))"
   ]
  },
  {
   "cell_type": "code",
   "execution_count": 5,
   "metadata": {},
   "outputs": [
    {
     "data": {
      "text/plain": [
       "<matplotlib.image.AxesImage at 0x2e745b7eb48>"
      ]
     },
     "execution_count": 5,
     "metadata": {},
     "output_type": "execute_result"
    },
    {
     "data": {
      "image/png": "[encoded data removed]",
      "text/plain": [
       "<Figure size 432x288 with 1 Axes>"
      ]
     },
     "metadata": {
      "image/png": {
       "height": 248,
       "width": 251
      },
      "needs_background": "light"
     },
     "output_type": "display_data"
    }
   ],
   "source": [
    "plt.imshow(images[6].view(28, 28))"
   ]
  },
  {
   "cell_type": "code",
   "execution_count": 6,
   "metadata": {},
   "outputs": [],
   "source": [
    "class Network(nn.Module):\n",
    "    def __init__(self):\n",
    "        super().__init__()\n",
    "        self.fc1 = nn.Linear(784, 128)\n",
    "        self.fc2 = nn.Linear(128, 128)\n",
    "        self.fc3 = nn.Linear(128, 10)\n",
    "        \n",
    "        self.dropout = nn.Dropout(p=0.1)\n",
    "    \n",
    "    def forward(self, x):\n",
    "        x = x.view(-1, 784)\n",
    "        x = self.dropout(F.relu(self.fc1(x)))\n",
    "        x = self.dropout(F.relu(self.fc2(x)))\n",
    "        x = self.fc3(x)\n",
    "        \n",
    "        return F.log_softmax(x, dim = 1)"
   ]
  },
  {
   "cell_type": "code",
   "execution_count": 7,
   "metadata": {},
   "outputs": [],
   "source": [
    "model = Network()"
   ]
  },
  {
   "cell_type": "code",
   "execution_count": 8,
   "metadata": {},
   "outputs": [
    {
     "name": "stdout",
     "output_type": "stream",
     "text": [
      "Network(\n",
      "  (fc1): Linear(in_features=784, out_features=128, bias=True)\n",
      "  (fc2): Linear(in_features=128, out_features=128, bias=True)\n",
      "  (fc3): Linear(in_features=128, out_features=10, bias=True)\n",
      "  (dropout): Dropout(p=0.1, inplace=False)\n",
      ")\n"
     ]
    }
   ],
   "source": [
    "print(model)"
   ]
  },
  {
   "cell_type": "code",
   "execution_count": 9,
   "metadata": {},
   "outputs": [],
   "source": [
    "optimizer = optim.Adam(model.parameters(), lr = 0.001)\n",
    "criterion = nn.NLLLoss()"
   ]
  },
  {
   "cell_type": "code",
   "execution_count": 10,
   "metadata": {},
   "outputs": [],
   "source": [
    "from tqdm import tqdm"
   ]
  },
  {
   "cell_type": "code",
   "execution_count": 11,
   "metadata": {},
   "outputs": [
    {
     "name": "stderr",
     "output_type": "stream",
     "text": [
      "\r",
      "  0%|                                                                                           | 0/10 [00:00<?, ?it/s]"
     ]
    },
    {
     "name": "stdout",
     "output_type": "stream",
     "text": [
      "Epochs: 1/10 Train Loss: 0.5358095396874047 Test Loss: 0.4564796462180508 Accuracy: 0.8284235596656799\n"
     ]
    },
    {
     "name": "stderr",
     "output_type": "stream",
     "text": [
      "\r",
      " 10%|████████▎                                                                          | 1/10 [00:19<02:59, 19.94s/it]"
     ]
    },
    {
     "name": "stdout",
     "output_type": "stream",
     "text": [
      "Epochs: 2/10 Train Loss: 0.40364624536050153 Test Loss: 0.41859973976566534 Accuracy: 0.8472332954406738\n"
     ]
    },
    {
     "name": "stderr",
     "output_type": "stream",
     "text": [
      "\r",
      " 20%|████████████████▌                                                                  | 2/10 [00:40<02:42, 20.26s/it]"
     ]
    },
    {
     "name": "stdout",
     "output_type": "stream",
     "text": [
      "Epochs: 3/10 Train Loss: 0.3638569520893636 Test Loss: 0.3743832139832199 Accuracy: 0.8625597357749939\n"
     ]
    },
    {
     "name": "stderr",
     "output_type": "stream",
     "text": [
      "\r",
      " 30%|████████████████████████▉                                                          | 3/10 [01:01<02:23, 20.46s/it]"
     ]
    },
    {
     "name": "stdout",
     "output_type": "stream",
     "text": [
      "Epochs: 4/10 Train Loss: 0.3407638553204313 Test Loss: 0.36526692872214467 Accuracy: 0.8673368096351624\n"
     ]
    },
    {
     "name": "stderr",
     "output_type": "stream",
     "text": [
      "\r",
      " 40%|█████████████████████████████████▏                                                 | 4/10 [01:24<02:06, 21.09s/it]"
     ]
    },
    {
     "name": "stdout",
     "output_type": "stream",
     "text": [
      "Epochs: 5/10 Train Loss: 0.32306789924531604 Test Loss: 0.3763773930110749 Accuracy: 0.8611664175987244\n"
     ]
    },
    {
     "name": "stderr",
     "output_type": "stream",
     "text": [
      "\r",
      " 50%|█████████████████████████████████████████▌                                         | 5/10 [01:46<01:46, 21.31s/it]"
     ]
    },
    {
     "name": "stdout",
     "output_type": "stream",
     "text": [
      "Epochs: 6/10 Train Loss: 0.3103004152268997 Test Loss: 0.3443293814446516 Accuracy: 0.8762937784194946\n"
     ]
    },
    {
     "name": "stderr",
     "output_type": "stream",
     "text": [
      "\r",
      " 60%|█████████████████████████████████████████████████▊                                 | 6/10 [02:07<01:25, 21.33s/it]"
     ]
    },
    {
     "name": "stdout",
     "output_type": "stream",
     "text": [
      "Epochs: 7/10 Train Loss: 0.29590738881657375 Test Loss: 0.3445524344588541 Accuracy: 0.8760947585105896\n"
     ]
    },
    {
     "name": "stderr",
     "output_type": "stream",
     "text": [
      "\r",
      " 70%|██████████████████████████████████████████████████████████                         | 7/10 [02:29<01:04, 21.43s/it]"
     ]
    },
    {
     "name": "stdout",
     "output_type": "stream",
     "text": [
      "Epochs: 8/10 Train Loss: 0.2873720079024972 Test Loss: 0.3423569966463526 Accuracy: 0.8793789744377136\n"
     ]
    },
    {
     "name": "stderr",
     "output_type": "stream",
     "text": [
      "\r",
      " 80%|██████████████████████████████████████████████████████████████████▍                | 8/10 [02:51<00:43, 21.59s/it]"
     ]
    },
    {
     "name": "stdout",
     "output_type": "stream",
     "text": [
      "Epochs: 9/10 Train Loss: 0.27922976901854024 Test Loss: 0.35378581437335654 Accuracy: 0.8728104829788208\n"
     ]
    },
    {
     "name": "stderr",
     "output_type": "stream",
     "text": [
      "\r",
      " 90%|██████████████████████████████████████████████████████████████████████████▋        | 9/10 [03:12<00:21, 21.54s/it]"
     ]
    },
    {
     "name": "stdout",
     "output_type": "stream",
     "text": [
      "Epochs: 10/10 Train Loss: 0.27192834563759855 Test Loss: 0.32865705810914375 Accuracy: 0.8801751732826233\n"
     ]
    },
    {
     "name": "stderr",
     "output_type": "stream",
     "text": [
      "100%|██████████████████████████████████████████████████████████████████████████████████| 10/10 [03:34<00:00, 21.40s/it]\n"
     ]
    }
   ],
   "source": [
    "EPOCHS = 10\n",
    "train_errors = []\n",
    "test_errors = []\n",
    "\n",
    "for epoch in tqdm(range(EPOCHS)):\n",
    "    running_loss = 0\n",
    "    for images, labels in trainloader:\n",
    "        \n",
    "        optimizer.zero_grad()\n",
    "        \n",
    "        outputs = model(images)\n",
    "        loss = criterion(outputs, labels)\n",
    "        loss.backward()\n",
    "        optimizer.step()\n",
    "        running_loss += loss.item()\n",
    "    else:\n",
    "        test_loss = 0\n",
    "        accuracy = 0\n",
    "        with torch.no_grad():\n",
    "            model.eval()\n",
    "            \n",
    "            for images, labels in testloader:\n",
    "                ops = model(images)\n",
    "                test_loss += criterion(ops, labels).item()\n",
    "                ps = torch.exp(ops)\n",
    "                top_p, top_class = ps.topk(1, dim = 1)\n",
    "                equals = top_class == labels.view(*top_class.shape)\n",
    "                accuracy += torch.mean(equals.type(torch.FloatTensor))\n",
    "        train_errors.append(running_loss/len(trainloader))\n",
    "        test_errors.append(test_loss/len(testloader))\n",
    "        model.train()\n",
    "        print(f\"Epochs: {epoch+1}/{EPOCHS}\",\n",
    "              f\"Train Loss: {train_errors[-1]}\",\n",
    "              f\"Test Loss: {test_errors[-1]}\",\n",
    "              f\"Accuracy: {accuracy/len(testloader)}\")"
   ]
  },
  {
   "cell_type": "code",
   "execution_count": 12,
   "metadata": {},
   "outputs": [
    {
     "data": {
      "text/plain": [
       "<matplotlib.legend.Legend at 0x2e74914de08>"
      ]
     },
     "execution_count": 12,
     "metadata": {},
     "output_type": "execute_result"
    },
    {
     "data": {
      "image/png": "[encoded data removed]",
      "text/plain": [
       "<Figure size 432x288 with 1 Axes>"
      ]
     },
     "metadata": {
      "image/png": {
       "height": 248,
       "width": 378
      },
      "needs_background": "light"
     },
     "output_type": "display_data"
    }
   ],
   "source": [
    "plt.plot(train_errors, label = \"Training Loss\")\n",
    "plt.plot(test_errors, label = \"Validation Loss\")\n",
    "plt.legend()"
   ]
  },
  {
   "cell_type": "code",
   "execution_count": 13,
   "metadata": {},
   "outputs": [
    {
     "data": {
      "text/plain": [
       "Network(\n",
       "  (fc1): Linear(in_features=784, out_features=128, bias=True)\n",
       "  (fc2): Linear(in_features=128, out_features=128, bias=True)\n",
       "  (fc3): Linear(in_features=128, out_features=10, bias=True)\n",
       "  (dropout): Dropout(p=0.1, inplace=False)\n",
       ")"
      ]
     },
     "execution_count": 13,
     "metadata": {},
     "output_type": "execute_result"
    }
   ],
   "source": [
    "model.eval()"
   ]
  },
  {
   "cell_type": "code",
   "execution_count": 14,
   "metadata": {},
   "outputs": [],
   "source": [
    "images, labels = next(iter(testloader))"
   ]
  },
  {
   "cell_type": "code",
   "execution_count": 15,
   "metadata": {},
   "outputs": [],
   "source": [
    "inp = images[8]"
   ]
  },
  {
   "cell_type": "code",
   "execution_count": 16,
   "metadata": {},
   "outputs": [],
   "source": [
    "with torch.no_grad():\n",
    "    op = model(inp)"
   ]
  },
  {
   "cell_type": "code",
   "execution_count": 17,
   "metadata": {},
   "outputs": [],
   "source": [
    "op_prob = torch.exp(op)"
   ]
  },
  {
   "cell_type": "code",
   "execution_count": 18,
   "metadata": {},
   "outputs": [
    {
     "data": {
      "text/plain": [
       "<matplotlib.image.AxesImage at 0x2e74934f608>"
      ]
     },
     "execution_count": 18,
     "metadata": {},
     "output_type": "execute_result"
    },
    {
     "data": {
      "image/png": "[encoded data removed]",
      "text/plain": [
       "<Figure size 432x288 with 1 Axes>"
      ]
     },
     "metadata": {
      "image/png": {
       "height": 248,
       "width": 251
      },
      "needs_background": "light"
     },
     "output_type": "display_data"
    }
   ],
   "source": [
    "plt.imshow(inp.view(28, 28))"
   ]
  },
  {
   "cell_type": "code",
   "execution_count": 19,
   "metadata": {},
   "outputs": [
    {
     "data": {
      "text/plain": [
       "tensor(6)"
      ]
     },
     "execution_count": 19,
     "metadata": {},
     "output_type": "execute_result"
    }
   ],
   "source": [
    "torch.argmax(op_prob)"
   ]
  },
  {
   "cell_type": "code",
   "execution_count": 20,
   "metadata": {},
   "outputs": [
    {
     "data": {
      "text/plain": [
       "tensor(6)"
      ]
     },
     "execution_count": 20,
     "metadata": {},
     "output_type": "execute_result"
    }
   ],
   "source": [
    "labels[8]"
   ]
  },
  {
   "cell_type": "code",
   "execution_count": 21,
   "metadata": {},
   "outputs": [],
   "source": [
    "import numpy as np\n",
    "def view_classify(img, ps):\n",
    "    ''' Function for viewing an image and it's predicted classes.\n",
    "    '''\n",
    "    ps = ps.data.numpy().squeeze()\n",
    "\n",
    "    fig, (ax1, ax2) = plt.subplots(figsize=(6,9), ncols=2)\n",
    "    ax1.imshow(img.resize_(1, 28, 28).numpy().squeeze())\n",
    "    ax1.axis('off')\n",
    "    ax2.barh(np.arange(10), ps)\n",
    "    ax2.set_aspect(0.1)\n",
    "    ax2.set_yticks(np.arange(10))\n",
    "    ax2.set_yticklabels(['T-shirt/top',\n",
    "                        'Trouser',\n",
    "                        'Pullover',\n",
    "                        'Dress',\n",
    "                        'Coat',\n",
    "                        'Sandal',\n",
    "                        'Shirt',\n",
    "                        'Sneaker',\n",
    "                        'Bag',\n",
    "                        'Ankle Boot'], size='small');\n",
    "    ax2.set_title('Class Probability')\n",
    "    ax2.set_xlim(0, 1.1)\n",
    "\n",
    "    plt.tight_layout()"
   ]
  },
  {
   "cell_type": "code",
   "execution_count": 22,
   "metadata": {},
   "outputs": [
    {
     "data": {
      "image/png": "[encoded data removed]",
      "text/plain": [
       "<Figure size 432x648 with 2 Axes>"
      ]
     },
     "metadata": {
      "image/png": {
       "height": 216,
       "width": 424
      },
      "needs_background": "light"
     },
     "output_type": "display_data"
    }
   ],
   "source": [
    "view_classify(inp, op_prob)"
   ]
  },
  {
   "cell_type": "code",
   "execution_count": 24,
   "metadata": {},
   "outputs": [
    {
     "data": {
      "text/plain": [
       "odict_keys(['fc1.weight', 'fc1.bias', 'fc2.weight', 'fc2.bias', 'fc3.weight', 'fc3.bias'])"
      ]
     },
     "execution_count": 24,
     "metadata": {},
     "output_type": "execute_result"
    }
   ],
   "source": [
    "model.state_dict().keys()"
   ]
  },
  {
   "cell_type": "code",
   "execution_count": 25,
   "metadata": {},
   "outputs": [
    {
     "name": "stdout",
     "output_type": "stream",
     "text": [
      "odict_keys(['fc1.weight', 'fc1.bias', 'fc2.weight', 'fc2.bias', 'fc3.weight', 'fc3.bias'])\n"
     ]
    }
   ],
   "source": [
    "model.train()\n",
    "\n",
    "print(model.state_dict().keys())"
   ]
  },
  {
   "cell_type": "code",
   "execution_count": 26,
   "metadata": {},
   "outputs": [
    {
     "name": "stdout",
     "output_type": "stream",
     "text": [
      "OrderedDict([('fc1.weight', tensor([[ 7.1569e-02,  5.2927e-02,  1.1445e-01,  ...,  3.5893e-02,\n",
      "          7.5674e-02,  7.2017e-02],\n",
      "        [ 4.8807e-02,  9.5589e-02,  1.1142e-01,  ...,  1.4564e-02,\n",
      "          1.1011e-01,  1.1362e-01],\n",
      "        [ 4.2033e-02,  3.1027e-02,  2.3274e-02,  ...,  2.0408e-02,\n",
      "          2.9573e-02,  1.0470e-02],\n",
      "        ...,\n",
      "        [ 2.6975e-03,  7.0456e-05, -2.5790e-02,  ...,  2.4144e-02,\n",
      "         -1.4130e-02, -2.6736e-02],\n",
      "        [-4.7735e-02, -4.8972e-02, -1.4024e-02,  ..., -6.9796e-03,\n",
      "         -3.9853e-02, -2.0528e-02],\n",
      "        [ 2.6666e-02,  1.5589e-02,  5.1327e-02,  ...,  3.3293e-02,\n",
      "          7.1819e-02,  2.8744e-02]])), ('fc1.bias', tensor([-0.1043, -0.0975, -0.0332, -0.0296, -0.0144, -0.0490, -0.0474, -0.0204,\n",
      "        -0.0527, -0.0084, -0.0310, -0.0366,  0.0077, -0.1030, -0.0345, -0.0595,\n",
      "        -0.0714, -0.0876, -0.0820, -0.0282, -0.0160, -0.0709,  0.0202, -0.0372,\n",
      "         0.0216, -0.0735, -0.0282, -0.0914,  0.0092, -0.0624, -0.1297, -0.0540,\n",
      "        -0.0210, -0.0314, -0.0312, -0.0039, -0.0193,  0.0019, -0.0092, -0.1086,\n",
      "        -0.0295, -0.0569, -0.0170,  0.0308, -0.0252, -0.0448, -0.0812, -0.0855,\n",
      "        -0.0176,  0.0453,  0.0492, -0.0389, -0.0537, -0.1088,  0.0125,  0.0445,\n",
      "        -0.0568, -0.0286, -0.0289, -0.0599, -0.0252,  0.0769,  0.1320, -0.0422,\n",
      "         0.0606, -0.0537, -0.0596, -0.0299, -0.0334, -0.0170, -0.0494, -0.0762,\n",
      "        -0.0355, -0.0120, -0.0120,  0.0364,  0.0197, -0.0534, -0.0351,  0.0089,\n",
      "         0.0400, -0.0366,  0.0762, -0.0199, -0.0540, -0.0239, -0.0189, -0.1012,\n",
      "        -0.0575,  0.0504, -0.0023,  0.0457, -0.0004, -0.0694, -0.0518, -0.0397,\n",
      "        -0.0518, -0.0349, -0.0480, -0.0608, -0.0502, -0.0476, -0.0690,  0.0021,\n",
      "        -0.0173, -0.0932, -0.0519, -0.0325,  0.0289,  0.0133, -0.0149, -0.0147,\n",
      "        -0.0079, -0.1095, -0.0304, -0.0597, -0.0056, -0.0741, -0.0190, -0.0205,\n",
      "        -0.0131, -0.0566, -0.0257, -0.0637,  0.0253, -0.0115, -0.0208, -0.0685])), ('fc2.weight', tensor([[ 5.0435e-02,  2.7417e-04, -5.8072e-02,  ..., -1.2914e-01,\n",
      "          1.2851e-03,  3.4770e-03],\n",
      "        [ 4.1696e-04,  2.2671e-02, -7.0181e-02,  ..., -5.1555e-03,\n",
      "         -2.5033e-02, -9.6675e-02],\n",
      "        [-1.3981e-02, -1.4594e-01,  2.7572e-02,  ...,  1.9475e-01,\n",
      "         -7.4230e-02,  1.0591e-02],\n",
      "        ...,\n",
      "        [-1.0803e-01, -2.3005e-01, -2.9561e-03,  ..., -1.5703e-01,\n",
      "          1.5509e-01, -4.9994e-02],\n",
      "        [-4.7803e-02,  6.0006e-02, -3.6750e-02,  ..., -8.1410e-02,\n",
      "         -5.1225e-03,  1.0018e-01],\n",
      "        [-5.6314e-02,  9.0515e-03, -2.3737e-02,  ..., -3.0682e-01,\n",
      "          2.7568e-02, -5.5301e-03]])), ('fc2.bias', tensor([ 0.0043, -0.0026,  0.1226, -0.1039, -0.0254, -0.0730, -0.0260,  0.0812,\n",
      "         0.0776,  0.0816,  0.0185,  0.1851, -0.0072,  0.1681,  0.0585,  0.0110,\n",
      "         0.0974,  0.0326,  0.3423, -0.0588, -0.0855,  0.1831, -0.0843, -0.0278,\n",
      "         0.0794, -0.0063,  0.2254, -0.1214,  0.0910, -0.2339, -0.0732,  0.1210,\n",
      "         0.1066,  0.0280,  0.0231, -0.0975,  0.3119, -0.0884,  0.1278,  0.0818,\n",
      "         0.1924,  0.1662,  0.0795,  0.1210,  0.1469,  0.0128,  0.1149,  0.1423,\n",
      "         0.2611,  0.1132,  0.2277,  0.0549,  0.2138,  0.0368,  0.1098,  0.0985,\n",
      "         0.1370,  0.0633,  0.0435, -0.0167,  0.1432,  0.3347,  0.0475,  0.1205,\n",
      "         0.0105,  0.1835,  0.2621,  0.0279,  0.0893,  0.0134,  0.2044,  0.0895,\n",
      "         0.0449,  0.0627, -0.0924, -0.0188,  0.0693, -0.0488,  0.0314,  0.0578,\n",
      "         0.1283, -0.0799,  0.0692, -0.0365,  0.0520,  0.0277, -0.1422, -0.0780,\n",
      "         0.0157, -0.1309,  0.1702,  0.0826,  0.1067, -0.1152,  0.1457,  0.1458,\n",
      "        -0.0185,  0.1586,  0.2434,  0.1654,  0.1719,  0.0889, -0.0043, -0.0441,\n",
      "         0.1250,  0.1523,  0.0394,  0.1195, -0.0219, -0.2287,  0.0226,  0.0210,\n",
      "        -0.0194,  0.0253, -0.0850,  0.0206,  0.0712,  0.0682,  0.0463, -0.0565,\n",
      "         0.1516,  0.1204, -0.1125,  0.1679, -0.0291,  0.0695,  0.0376, -0.0141])), ('fc3.weight', tensor([[-0.2271, -0.0624, -0.0303,  ...,  0.1275,  0.0414, -0.0843],\n",
      "        [ 0.1570, -0.0169,  0.1527,  ..., -0.0475, -0.0444,  0.0112],\n",
      "        [-0.1479,  0.0080,  0.0797,  ..., -0.0648, -0.1825, -0.1171],\n",
      "        ...,\n",
      "        [ 0.1126, -0.1384, -0.8500,  ..., -0.5364, -0.0684, -0.1520],\n",
      "        [-0.1244,  0.0840, -0.2655,  ..., -0.3171, -0.1504, -0.0209],\n",
      "        [ 0.1186,  0.0338, -0.1307,  ..., -0.2719,  0.0641, -0.0658]])), ('fc3.bias', tensor([-0.0746, -0.0992,  0.0739,  0.1253,  0.0745, -0.1001,  0.0220, -0.0160,\n",
      "         0.0454, -0.1499]))])\n"
     ]
    }
   ],
   "source": [
    "print(model.state_dict())"
   ]
  },
  {
   "cell_type": "code",
   "execution_count": 27,
   "metadata": {},
   "outputs": [],
   "source": [
    "#Saving parameters of models\n",
    "\n",
    "torch.save(model.state_dict(), \"checkpoint.pth\")"
   ]
  },
  {
   "cell_type": "code",
   "execution_count": 29,
   "metadata": {},
   "outputs": [
    {
     "name": "stdout",
     "output_type": "stream",
     "text": [
      "Network(\n",
      "  (fc1): Linear(in_features=784, out_features=128, bias=True)\n",
      "  (fc2): Linear(in_features=128, out_features=128, bias=True)\n",
      "  (fc3): Linear(in_features=128, out_features=10, bias=True)\n",
      "  (dropout): Dropout(p=0.1, inplace=False)\n",
      ")\n",
      "odict_keys(['fc1.weight', 'fc1.bias', 'fc2.weight', 'fc2.bias', 'fc3.weight', 'fc3.bias'])\n"
     ]
    }
   ],
   "source": [
    "print(model)\n",
    "print(model.state_dict().keys())"
   ]
  },
  {
   "cell_type": "code",
   "execution_count": 30,
   "metadata": {},
   "outputs": [],
   "source": [
    "#Fuction to Load model parameters\n",
    "def load_model_params(path):\n",
    "    model = Network()\n",
    "    model.load_state_dict(torch.load(path))\n",
    "    \n",
    "    return model"
   ]
  },
  {
   "cell_type": "code",
   "execution_count": 31,
   "metadata": {},
   "outputs": [
    {
     "data": {
      "text/plain": [
       "Network(\n",
       "  (fc1): Linear(in_features=784, out_features=128, bias=True)\n",
       "  (fc2): Linear(in_features=128, out_features=128, bias=True)\n",
       "  (fc3): Linear(in_features=128, out_features=10, bias=True)\n",
       "  (dropout): Dropout(p=0.1, inplace=False)\n",
       ")"
      ]
     },
     "execution_count": 31,
     "metadata": {},
     "output_type": "execute_result"
    }
   ],
   "source": [
    "# Checking Model after re-loading\n",
    "model_2 = load_model_params(\"checkpoint.pth\")\n",
    "\n",
    "model_2.eval()"
   ]
  },
  {
   "cell_type": "code",
   "execution_count": 32,
   "metadata": {},
   "outputs": [],
   "source": [
    "with torch.no_grad():\n",
    "    output = model_2(inp)"
   ]
  },
  {
   "cell_type": "code",
   "execution_count": 33,
   "metadata": {},
   "outputs": [],
   "source": [
    "output_prob = torch.exp(output)"
   ]
  },
  {
   "cell_type": "code",
   "execution_count": 34,
   "metadata": {},
   "outputs": [
    {
     "data": {
      "image/png": "[encoded data removed]",
      "text/plain": [
       "<Figure size 432x648 with 2 Axes>"
      ]
     },
     "metadata": {
      "image/png": {
       "height": 216,
       "width": 424
      },
      "needs_background": "light"
     },
     "output_type": "display_data"
    }
   ],
   "source": [
    "view_classify(inp, output_prob)"
   ]
  },
  {
   "cell_type": "code",
   "execution_count": null,
   "metadata": {},
   "outputs": [],
   "source": []
  }
 ],
 "metadata": {
  "kernelspec": {
   "display_name": "Python 3",
   "language": "python",
   "name": "python3"
  },
  "language_info": {
   "codemirror_mode": {
    "name": "ipython",
    "version": 3
   },
   "file_extension": ".py",
   "mimetype": "text/x-python",
   "name": "python",
   "nbconvert_exporter": "python",
   "pygments_lexer": "ipython3",
   "version": "3.7.4"
  }
 },
 "nbformat": 4,
 "nbformat_minor": 2
}
